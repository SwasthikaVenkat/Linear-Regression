{
 "cells": [
  {
   "cell_type": "markdown",
   "id": "946f6272",
   "metadata": {},
   "source": [
    "## ABSTRACT:\n",
    "### A key challenge for property sellers is to determine the sale price of the property. The ability to predict the exact property value is beneficial for property investors as well as for buyers to plan their finances according to the price trend. The property prices depend on the number of features like the property area, basement square footage, year built, number of bedrooms, and so on.\n"
   ]
  },
  {
   "cell_type": "markdown",
   "id": "9f4b0c16",
   "metadata": {},
   "source": [
    "# Predicting house price using Linear Regression with OLS Method"
   ]
  },
  {
   "cell_type": "markdown",
   "id": "8e0e6515",
   "metadata": {},
   "source": [
    "### Import necessary library"
   ]
  },
  {
   "cell_type": "code",
   "execution_count": 1,
   "id": "516ee350",
   "metadata": {},
   "outputs": [],
   "source": [
    "\n",
    "import numpy as np   \n",
    "import matplotlib.pyplot as plt \n",
    "%matplotlib inline \n",
    "import seaborn as sns\n",
    "from sklearn.model_selection import train_test_split # Sklearn package's randomized data splitting function\n",
    "from sklearn.linear_model import LinearRegression\n",
    "import pandas as pd    "
   ]
  },
  {
   "cell_type": "code",
   "execution_count": 2,
   "id": "c1f8c90f",
   "metadata": {},
   "outputs": [],
   "source": [
    "#load and review dataset\n",
    "df=pd.read_csv(\"HousePrices.csv\")"
   ]
  },
  {
   "cell_type": "code",
   "execution_count": 3,
   "id": "ba7a963f",
   "metadata": {},
   "outputs": [
    {
     "data": {
      "text/html": [
       "<div>\n",
       "<style scoped>\n",
       "    .dataframe tbody tr th:only-of-type {\n",
       "        vertical-align: middle;\n",
       "    }\n",
       "\n",
       "    .dataframe tbody tr th {\n",
       "        vertical-align: top;\n",
       "    }\n",
       "\n",
       "    .dataframe thead th {\n",
       "        text-align: right;\n",
       "    }\n",
       "</style>\n",
       "<table border=\"1\" class=\"dataframe\">\n",
       "  <thead>\n",
       "    <tr style=\"text-align: right;\">\n",
       "      <th></th>\n",
       "      <th>Id</th>\n",
       "      <th>Dwell_Type</th>\n",
       "      <th>Zone_Class</th>\n",
       "      <th>LotFrontage</th>\n",
       "      <th>LotArea</th>\n",
       "      <th>Road_Type</th>\n",
       "      <th>Alley</th>\n",
       "      <th>Property_Shape</th>\n",
       "      <th>LandContour</th>\n",
       "      <th>Utilities</th>\n",
       "      <th>...</th>\n",
       "      <th>PoolArea</th>\n",
       "      <th>PoolQC</th>\n",
       "      <th>Fence</th>\n",
       "      <th>MiscFeature</th>\n",
       "      <th>MiscVal</th>\n",
       "      <th>MoSold</th>\n",
       "      <th>YrSold</th>\n",
       "      <th>SaleType</th>\n",
       "      <th>SaleCondition</th>\n",
       "      <th>Property_Sale_Price</th>\n",
       "    </tr>\n",
       "  </thead>\n",
       "  <tbody>\n",
       "    <tr>\n",
       "      <th>0</th>\n",
       "      <td>1</td>\n",
       "      <td>60</td>\n",
       "      <td>RL</td>\n",
       "      <td>65.0</td>\n",
       "      <td>8450</td>\n",
       "      <td>Pave</td>\n",
       "      <td>NaN</td>\n",
       "      <td>Reg</td>\n",
       "      <td>Lvl</td>\n",
       "      <td>AllPub</td>\n",
       "      <td>...</td>\n",
       "      <td>0</td>\n",
       "      <td>NaN</td>\n",
       "      <td>NaN</td>\n",
       "      <td>NaN</td>\n",
       "      <td>0</td>\n",
       "      <td>2</td>\n",
       "      <td>2008</td>\n",
       "      <td>WD</td>\n",
       "      <td>Normal</td>\n",
       "      <td>208500</td>\n",
       "    </tr>\n",
       "    <tr>\n",
       "      <th>1</th>\n",
       "      <td>2</td>\n",
       "      <td>20</td>\n",
       "      <td>RL</td>\n",
       "      <td>80.0</td>\n",
       "      <td>9600</td>\n",
       "      <td>Pave</td>\n",
       "      <td>NaN</td>\n",
       "      <td>Reg</td>\n",
       "      <td>Lvl</td>\n",
       "      <td>AllPub</td>\n",
       "      <td>...</td>\n",
       "      <td>0</td>\n",
       "      <td>NaN</td>\n",
       "      <td>NaN</td>\n",
       "      <td>NaN</td>\n",
       "      <td>0</td>\n",
       "      <td>5</td>\n",
       "      <td>2007</td>\n",
       "      <td>WD</td>\n",
       "      <td>Normal</td>\n",
       "      <td>181500</td>\n",
       "    </tr>\n",
       "    <tr>\n",
       "      <th>2</th>\n",
       "      <td>3</td>\n",
       "      <td>60</td>\n",
       "      <td>RL</td>\n",
       "      <td>68.0</td>\n",
       "      <td>11250</td>\n",
       "      <td>Pave</td>\n",
       "      <td>NaN</td>\n",
       "      <td>IR1</td>\n",
       "      <td>Lvl</td>\n",
       "      <td>AllPub</td>\n",
       "      <td>...</td>\n",
       "      <td>0</td>\n",
       "      <td>NaN</td>\n",
       "      <td>NaN</td>\n",
       "      <td>NaN</td>\n",
       "      <td>0</td>\n",
       "      <td>9</td>\n",
       "      <td>2008</td>\n",
       "      <td>WD</td>\n",
       "      <td>Normal</td>\n",
       "      <td>223500</td>\n",
       "    </tr>\n",
       "    <tr>\n",
       "      <th>3</th>\n",
       "      <td>4</td>\n",
       "      <td>70</td>\n",
       "      <td>RL</td>\n",
       "      <td>60.0</td>\n",
       "      <td>9550</td>\n",
       "      <td>Pave</td>\n",
       "      <td>NaN</td>\n",
       "      <td>IR1</td>\n",
       "      <td>Lvl</td>\n",
       "      <td>AllPub</td>\n",
       "      <td>...</td>\n",
       "      <td>0</td>\n",
       "      <td>NaN</td>\n",
       "      <td>NaN</td>\n",
       "      <td>NaN</td>\n",
       "      <td>0</td>\n",
       "      <td>2</td>\n",
       "      <td>2006</td>\n",
       "      <td>WD</td>\n",
       "      <td>Abnorml</td>\n",
       "      <td>140000</td>\n",
       "    </tr>\n",
       "    <tr>\n",
       "      <th>4</th>\n",
       "      <td>5</td>\n",
       "      <td>60</td>\n",
       "      <td>RL</td>\n",
       "      <td>84.0</td>\n",
       "      <td>14260</td>\n",
       "      <td>Pave</td>\n",
       "      <td>NaN</td>\n",
       "      <td>IR1</td>\n",
       "      <td>Lvl</td>\n",
       "      <td>AllPub</td>\n",
       "      <td>...</td>\n",
       "      <td>0</td>\n",
       "      <td>NaN</td>\n",
       "      <td>NaN</td>\n",
       "      <td>NaN</td>\n",
       "      <td>0</td>\n",
       "      <td>12</td>\n",
       "      <td>2008</td>\n",
       "      <td>WD</td>\n",
       "      <td>Normal</td>\n",
       "      <td>250000</td>\n",
       "    </tr>\n",
       "  </tbody>\n",
       "</table>\n",
       "<p>5 rows × 81 columns</p>\n",
       "</div>"
      ],
      "text/plain": [
       "   Id  Dwell_Type Zone_Class  LotFrontage  LotArea Road_Type Alley  \\\n",
       "0   1          60         RL         65.0     8450      Pave   NaN   \n",
       "1   2          20         RL         80.0     9600      Pave   NaN   \n",
       "2   3          60         RL         68.0    11250      Pave   NaN   \n",
       "3   4          70         RL         60.0     9550      Pave   NaN   \n",
       "4   5          60         RL         84.0    14260      Pave   NaN   \n",
       "\n",
       "  Property_Shape LandContour Utilities  ... PoolArea PoolQC Fence MiscFeature  \\\n",
       "0            Reg         Lvl    AllPub  ...        0    NaN   NaN         NaN   \n",
       "1            Reg         Lvl    AllPub  ...        0    NaN   NaN         NaN   \n",
       "2            IR1         Lvl    AllPub  ...        0    NaN   NaN         NaN   \n",
       "3            IR1         Lvl    AllPub  ...        0    NaN   NaN         NaN   \n",
       "4            IR1         Lvl    AllPub  ...        0    NaN   NaN         NaN   \n",
       "\n",
       "  MiscVal MoSold YrSold  SaleType  SaleCondition  Property_Sale_Price  \n",
       "0       0      2   2008        WD         Normal               208500  \n",
       "1       0      5   2007        WD         Normal               181500  \n",
       "2       0      9   2008        WD         Normal               223500  \n",
       "3       0      2   2006        WD        Abnorml               140000  \n",
       "4       0     12   2008        WD         Normal               250000  \n",
       "\n",
       "[5 rows x 81 columns]"
      ]
     },
     "execution_count": 3,
     "metadata": {},
     "output_type": "execute_result"
    }
   ],
   "source": [
    "df.head()\n",
    "#print first five rows"
   ]
  },
  {
   "cell_type": "code",
   "execution_count": 4,
   "id": "45f34c0f",
   "metadata": {},
   "outputs": [
    {
     "data": {
      "text/plain": [
       "Id                       int64\n",
       "Dwell_Type               int64\n",
       "Zone_Class              object\n",
       "LotFrontage            float64\n",
       "LotArea                  int64\n",
       "                        ...   \n",
       "MoSold                   int64\n",
       "YrSold                   int64\n",
       "SaleType                object\n",
       "SaleCondition           object\n",
       "Property_Sale_Price      int64\n",
       "Length: 81, dtype: object"
      ]
     },
     "execution_count": 4,
     "metadata": {},
     "output_type": "execute_result"
    }
   ],
   "source": [
    "df.dtypes\n",
    "#datatypes of the variables"
   ]
  },
  {
   "cell_type": "code",
   "execution_count": 5,
   "id": "ad567a31",
   "metadata": {},
   "outputs": [
    {
     "data": {
      "text/plain": [
       "{int64: ['Id', 'Dwell_Type', 'LotArea', 'OverallQual', 'OverallCond', 'YearBuilt', 'YearRemodAdd', 'BsmtFinSF1', 'BsmtFinSF2', 'BsmtUnfSF', 'TotalBsmtSF', '1stFlrSF', '2ndFlrSF', 'LowQualFinSF', 'GrLivArea', 'BsmtFullBath', 'BsmtHalfBath', 'FullBath', 'HalfBath', 'BedroomAbvGr', 'KitchenAbvGr', 'TotRmsAbvGrd', 'Fireplaces', 'GarageCars', 'GarageArea', 'WoodDeckSF', 'OpenPorchSF', 'EnclosedPorch', '3SsnPorch', 'ScreenPorch', 'PoolArea', 'MiscVal', 'MoSold', 'YrSold', 'Property_Sale_Price'], float64: ['LotFrontage', 'MasVnrArea', 'GarageYrBlt'], object: ['Zone_Class', 'Road_Type', 'Alley', 'Property_Shape', 'LandContour', 'Utilities', 'LotConfig', 'LandSlope', 'Neighborhood', 'Condition1', 'Condition2', 'Dwelling_Type', 'HouseStyle', 'RoofStyle', 'RoofMatl', 'Exterior1st', 'Exterior2nd', 'MasVnrType', 'ExterQual', 'ExterCond', 'Foundation', 'BsmtQual', 'BsmtCond', 'BsmtExposure', 'BsmtFinType1', 'BsmtFinType2', 'Heating', 'HeatingQC', 'CentralAir', 'Electrical', 'KitchenQual', 'Functional', 'FireplaceQu', 'GarageType', 'GarageFinish', 'GarageQual', 'GarageCond', 'PavedDrive', 'PoolQC', 'Fence', 'MiscFeature', 'SaleType', 'SaleCondition']}"
      ]
     },
     "execution_count": 5,
     "metadata": {},
     "output_type": "execute_result"
    }
   ],
   "source": [
    "x = df.columns.to_series().groupby(df.dtypes).groups\n",
    "x\n",
    "#for viewing all the columns"
   ]
  },
  {
   "cell_type": "code",
   "execution_count": 6,
   "id": "24ea23b3",
   "metadata": {},
   "outputs": [
    {
     "data": {
      "text/plain": [
       "(2073, 81)"
      ]
     },
     "execution_count": 6,
     "metadata": {},
     "output_type": "execute_result"
    }
   ],
   "source": [
    "df.shape\n",
    "#get the shape"
   ]
  },
  {
   "cell_type": "code",
   "execution_count": 7,
   "id": "12375987",
   "metadata": {},
   "outputs": [
    {
     "name": "stdout",
     "output_type": "stream",
     "text": [
      "<class 'pandas.core.frame.DataFrame'>\n",
      "RangeIndex: 2073 entries, 0 to 2072\n",
      "Data columns (total 81 columns):\n",
      " #   Column               Non-Null Count  Dtype  \n",
      "---  ------               --------------  -----  \n",
      " 0   Id                   2073 non-null   int64  \n",
      " 1   Dwell_Type           2073 non-null   int64  \n",
      " 2   Zone_Class           2073 non-null   object \n",
      " 3   LotFrontage          1753 non-null   float64\n",
      " 4   LotArea              2073 non-null   int64  \n",
      " 5   Road_Type            2073 non-null   object \n",
      " 6   Alley                129 non-null    object \n",
      " 7   Property_Shape       2073 non-null   object \n",
      " 8   LandContour          2073 non-null   object \n",
      " 9   Utilities            2073 non-null   object \n",
      " 10  LotConfig            2073 non-null   object \n",
      " 11  LandSlope            2073 non-null   object \n",
      " 12  Neighborhood         2073 non-null   object \n",
      " 13  Condition1           2073 non-null   object \n",
      " 14  Condition2           2073 non-null   object \n",
      " 15  Dwelling_Type        2073 non-null   object \n",
      " 16  HouseStyle           2073 non-null   object \n",
      " 17  OverallQual          2073 non-null   int64  \n",
      " 18  OverallCond          2073 non-null   int64  \n",
      " 19  YearBuilt            2073 non-null   int64  \n",
      " 20  YearRemodAdd         2073 non-null   int64  \n",
      " 21  RoofStyle            2073 non-null   object \n",
      " 22  RoofMatl             2073 non-null   object \n",
      " 23  Exterior1st          2073 non-null   object \n",
      " 24  Exterior2nd          2073 non-null   object \n",
      " 25  MasVnrType           2059 non-null   object \n",
      " 26  MasVnrArea           2059 non-null   float64\n",
      " 27  ExterQual            2073 non-null   object \n",
      " 28  ExterCond            2073 non-null   object \n",
      " 29  Foundation           2073 non-null   object \n",
      " 30  BsmtQual             2014 non-null   object \n",
      " 31  BsmtCond             2014 non-null   object \n",
      " 32  BsmtExposure         2012 non-null   object \n",
      " 33  BsmtFinType1         2014 non-null   object \n",
      " 34  BsmtFinSF1           2073 non-null   int64  \n",
      " 35  BsmtFinType2         2013 non-null   object \n",
      " 36  BsmtFinSF2           2073 non-null   int64  \n",
      " 37  BsmtUnfSF            2073 non-null   int64  \n",
      " 38  TotalBsmtSF          2073 non-null   int64  \n",
      " 39  Heating              2073 non-null   object \n",
      " 40  HeatingQC            2073 non-null   object \n",
      " 41  CentralAir           2073 non-null   object \n",
      " 42  Electrical           2072 non-null   object \n",
      " 43  1stFlrSF             2073 non-null   int64  \n",
      " 44  2ndFlrSF             2073 non-null   int64  \n",
      " 45  LowQualFinSF         2073 non-null   int64  \n",
      " 46  GrLivArea            2073 non-null   int64  \n",
      " 47  BsmtFullBath         2073 non-null   int64  \n",
      " 48  BsmtHalfBath         2073 non-null   int64  \n",
      " 49  FullBath             2073 non-null   int64  \n",
      " 50  HalfBath             2073 non-null   int64  \n",
      " 51  BedroomAbvGr         2073 non-null   int64  \n",
      " 52  KitchenAbvGr         2073 non-null   int64  \n",
      " 53  KitchenQual          2073 non-null   object \n",
      " 54  TotRmsAbvGrd         2073 non-null   int64  \n",
      " 55  Functional           2073 non-null   object \n",
      " 56  Fireplaces           2073 non-null   int64  \n",
      " 57  FireplaceQu          1085 non-null   object \n",
      " 58  GarageType           1960 non-null   object \n",
      " 59  GarageYrBlt          1960 non-null   float64\n",
      " 60  GarageFinish         1960 non-null   object \n",
      " 61  GarageCars           2073 non-null   int64  \n",
      " 62  GarageArea           2073 non-null   int64  \n",
      " 63  GarageQual           1960 non-null   object \n",
      " 64  GarageCond           1960 non-null   object \n",
      " 65  PavedDrive           2073 non-null   object \n",
      " 66  WoodDeckSF           2073 non-null   int64  \n",
      " 67  OpenPorchSF          2073 non-null   int64  \n",
      " 68  EnclosedPorch        2073 non-null   int64  \n",
      " 69  3SsnPorch            2073 non-null   int64  \n",
      " 70  ScreenPorch          2073 non-null   int64  \n",
      " 71  PoolArea             2073 non-null   int64  \n",
      " 72  PoolQC               8 non-null      object \n",
      " 73  Fence                404 non-null    object \n",
      " 74  MiscFeature          80 non-null     object \n",
      " 75  MiscVal              2073 non-null   int64  \n",
      " 76  MoSold               2073 non-null   int64  \n",
      " 77  YrSold               2073 non-null   int64  \n",
      " 78  SaleType             2073 non-null   object \n",
      " 79  SaleCondition        2073 non-null   object \n",
      " 80  Property_Sale_Price  2073 non-null   int64  \n",
      "dtypes: float64(3), int64(35), object(43)\n",
      "memory usage: 1.3+ MB\n"
     ]
    }
   ],
   "source": [
    "df.info()\n",
    "#get the info"
   ]
  },
  {
   "cell_type": "code",
   "execution_count": 8,
   "id": "a535acf5",
   "metadata": {},
   "outputs": [
    {
     "data": {
      "text/plain": [
       "Id                       0\n",
       "Dwell_Type               0\n",
       "Zone_Class               0\n",
       "LotFrontage            320\n",
       "LotArea                  0\n",
       "                      ... \n",
       "MoSold                   0\n",
       "YrSold                   0\n",
       "SaleType                 0\n",
       "SaleCondition            0\n",
       "Property_Sale_Price      0\n",
       "Length: 81, dtype: int64"
      ]
     },
     "execution_count": 8,
     "metadata": {},
     "output_type": "execute_result"
    }
   ],
   "source": [
    "df.isnull().sum()\n",
    "#missing values"
   ]
  },
  {
   "cell_type": "markdown",
   "id": "38fe97f7",
   "metadata": {},
   "source": [
    "### Finding the missing values"
   ]
  },
  {
   "cell_type": "code",
   "execution_count": 9,
   "id": "f6ed5e23",
   "metadata": {},
   "outputs": [
    {
     "data": {
      "text/plain": [
       "{0: ['Id', 'Dwell_Type', 'Zone_Class', 'LotArea', 'Road_Type', 'Property_Shape', 'LandContour', 'Utilities', 'LotConfig', 'LandSlope', 'Neighborhood', 'Condition1', 'Condition2', 'Dwelling_Type', 'HouseStyle', 'OverallQual', 'OverallCond', 'YearBuilt', 'YearRemodAdd', 'RoofStyle', 'RoofMatl', 'Exterior1st', 'Exterior2nd', 'ExterQual', 'ExterCond', 'Foundation', 'BsmtFinSF1', 'BsmtFinSF2', 'BsmtUnfSF', 'TotalBsmtSF', 'Heating', 'HeatingQC', 'CentralAir', '1stFlrSF', '2ndFlrSF', 'LowQualFinSF', 'GrLivArea', 'BsmtFullBath', 'BsmtHalfBath', 'FullBath', 'HalfBath', 'BedroomAbvGr', 'KitchenAbvGr', 'KitchenQual', 'TotRmsAbvGrd', 'Functional', 'Fireplaces', 'GarageCars', 'GarageArea', 'PavedDrive', 'WoodDeckSF', 'OpenPorchSF', 'EnclosedPorch', '3SsnPorch', 'ScreenPorch', 'PoolArea', 'MiscVal', 'MoSold', 'YrSold', 'SaleType', 'SaleCondition', 'Property_Sale_Price'], 1: ['Electrical'], 14: ['MasVnrType', 'MasVnrArea'], 59: ['BsmtQual', 'BsmtCond', 'BsmtFinType1'], 60: ['BsmtFinType2'], 61: ['BsmtExposure'], 113: ['GarageType', 'GarageYrBlt', 'GarageFinish', 'GarageQual', 'GarageCond'], 320: ['LotFrontage'], 988: ['FireplaceQu'], 1669: ['Fence'], 1944: ['Alley'], 1993: ['MiscFeature'], 2065: ['PoolQC']}"
      ]
     },
     "execution_count": 9,
     "metadata": {},
     "output_type": "execute_result"
    }
   ],
   "source": [
    "y = df.columns.to_series().groupby(df.isnull().sum()).groups\n",
    "y\n"
   ]
  },
  {
   "cell_type": "code",
   "execution_count": 10,
   "id": "9ae401c9",
   "metadata": {},
   "outputs": [],
   "source": [
    "df.drop(['Alley','MiscFeature','Fence','FireplaceQu','PoolQC'], axis = 1,inplace=True)\n",
    "#dropping these columns because it has alot of missing value "
   ]
  },
  {
   "cell_type": "code",
   "execution_count": 11,
   "id": "687c2e0b",
   "metadata": {},
   "outputs": [
    {
     "data": {
      "text/plain": [
       "(2073, 76)"
      ]
     },
     "execution_count": 11,
     "metadata": {},
     "output_type": "execute_result"
    }
   ],
   "source": [
    "df.shape"
   ]
  },
  {
   "cell_type": "code",
   "execution_count": 12,
   "id": "72441587",
   "metadata": {},
   "outputs": [
    {
     "name": "stdout",
     "output_type": "stream",
     "text": [
      "<class 'pandas.core.frame.DataFrame'>\n",
      "RangeIndex: 2073 entries, 0 to 2072\n",
      "Data columns (total 76 columns):\n",
      " #   Column               Non-Null Count  Dtype  \n",
      "---  ------               --------------  -----  \n",
      " 0   Id                   2073 non-null   int64  \n",
      " 1   Dwell_Type           2073 non-null   int64  \n",
      " 2   Zone_Class           2073 non-null   object \n",
      " 3   LotFrontage          1753 non-null   float64\n",
      " 4   LotArea              2073 non-null   int64  \n",
      " 5   Road_Type            2073 non-null   object \n",
      " 6   Property_Shape       2073 non-null   object \n",
      " 7   LandContour          2073 non-null   object \n",
      " 8   Utilities            2073 non-null   object \n",
      " 9   LotConfig            2073 non-null   object \n",
      " 10  LandSlope            2073 non-null   object \n",
      " 11  Neighborhood         2073 non-null   object \n",
      " 12  Condition1           2073 non-null   object \n",
      " 13  Condition2           2073 non-null   object \n",
      " 14  Dwelling_Type        2073 non-null   object \n",
      " 15  HouseStyle           2073 non-null   object \n",
      " 16  OverallQual          2073 non-null   int64  \n",
      " 17  OverallCond          2073 non-null   int64  \n",
      " 18  YearBuilt            2073 non-null   int64  \n",
      " 19  YearRemodAdd         2073 non-null   int64  \n",
      " 20  RoofStyle            2073 non-null   object \n",
      " 21  RoofMatl             2073 non-null   object \n",
      " 22  Exterior1st          2073 non-null   object \n",
      " 23  Exterior2nd          2073 non-null   object \n",
      " 24  MasVnrType           2059 non-null   object \n",
      " 25  MasVnrArea           2059 non-null   float64\n",
      " 26  ExterQual            2073 non-null   object \n",
      " 27  ExterCond            2073 non-null   object \n",
      " 28  Foundation           2073 non-null   object \n",
      " 29  BsmtQual             2014 non-null   object \n",
      " 30  BsmtCond             2014 non-null   object \n",
      " 31  BsmtExposure         2012 non-null   object \n",
      " 32  BsmtFinType1         2014 non-null   object \n",
      " 33  BsmtFinSF1           2073 non-null   int64  \n",
      " 34  BsmtFinType2         2013 non-null   object \n",
      " 35  BsmtFinSF2           2073 non-null   int64  \n",
      " 36  BsmtUnfSF            2073 non-null   int64  \n",
      " 37  TotalBsmtSF          2073 non-null   int64  \n",
      " 38  Heating              2073 non-null   object \n",
      " 39  HeatingQC            2073 non-null   object \n",
      " 40  CentralAir           2073 non-null   object \n",
      " 41  Electrical           2072 non-null   object \n",
      " 42  1stFlrSF             2073 non-null   int64  \n",
      " 43  2ndFlrSF             2073 non-null   int64  \n",
      " 44  LowQualFinSF         2073 non-null   int64  \n",
      " 45  GrLivArea            2073 non-null   int64  \n",
      " 46  BsmtFullBath         2073 non-null   int64  \n",
      " 47  BsmtHalfBath         2073 non-null   int64  \n",
      " 48  FullBath             2073 non-null   int64  \n",
      " 49  HalfBath             2073 non-null   int64  \n",
      " 50  BedroomAbvGr         2073 non-null   int64  \n",
      " 51  KitchenAbvGr         2073 non-null   int64  \n",
      " 52  KitchenQual          2073 non-null   object \n",
      " 53  TotRmsAbvGrd         2073 non-null   int64  \n",
      " 54  Functional           2073 non-null   object \n",
      " 55  Fireplaces           2073 non-null   int64  \n",
      " 56  GarageType           1960 non-null   object \n",
      " 57  GarageYrBlt          1960 non-null   float64\n",
      " 58  GarageFinish         1960 non-null   object \n",
      " 59  GarageCars           2073 non-null   int64  \n",
      " 60  GarageArea           2073 non-null   int64  \n",
      " 61  GarageQual           1960 non-null   object \n",
      " 62  GarageCond           1960 non-null   object \n",
      " 63  PavedDrive           2073 non-null   object \n",
      " 64  WoodDeckSF           2073 non-null   int64  \n",
      " 65  OpenPorchSF          2073 non-null   int64  \n",
      " 66  EnclosedPorch        2073 non-null   int64  \n",
      " 67  3SsnPorch            2073 non-null   int64  \n",
      " 68  ScreenPorch          2073 non-null   int64  \n",
      " 69  PoolArea             2073 non-null   int64  \n",
      " 70  MiscVal              2073 non-null   int64  \n",
      " 71  MoSold               2073 non-null   int64  \n",
      " 72  YrSold               2073 non-null   int64  \n",
      " 73  SaleType             2073 non-null   object \n",
      " 74  SaleCondition        2073 non-null   object \n",
      " 75  Property_Sale_Price  2073 non-null   int64  \n",
      "dtypes: float64(3), int64(35), object(38)\n",
      "memory usage: 1.2+ MB\n"
     ]
    }
   ],
   "source": [
    "df.info()\n"
   ]
  },
  {
   "cell_type": "code",
   "execution_count": 13,
   "id": "6c7357fb",
   "metadata": {},
   "outputs": [],
   "source": [
    "cols = ['LotFrontage','GarageYrBlt','MasVnrArea']\n",
    "df[cols]=df[cols].fillna(0)\n",
    "#filling missing values in float columns"
   ]
  },
  {
   "cell_type": "code",
   "execution_count": 14,
   "id": "0d440ced",
   "metadata": {},
   "outputs": [],
   "source": [
    "colmn=['GarageQual','GarageCond','GarageFinish','GarageType','Electrical','BsmtFinType1','BsmtExposure','BsmtQual','BsmtCond','MasVnrType','BsmtFinType2']\n",
    "df[colmn] = df[colmn].apply(lambda x: x.fillna(x.value_counts().index[0]))\n",
    "#filling missing values in categorical columns"
   ]
  },
  {
   "cell_type": "code",
   "execution_count": 15,
   "id": "5bed2e7c",
   "metadata": {},
   "outputs": [
    {
     "name": "stdout",
     "output_type": "stream",
     "text": [
      "<class 'pandas.core.frame.DataFrame'>\n",
      "RangeIndex: 2073 entries, 0 to 2072\n",
      "Data columns (total 76 columns):\n",
      " #   Column               Non-Null Count  Dtype  \n",
      "---  ------               --------------  -----  \n",
      " 0   Id                   2073 non-null   int64  \n",
      " 1   Dwell_Type           2073 non-null   int64  \n",
      " 2   Zone_Class           2073 non-null   object \n",
      " 3   LotFrontage          2073 non-null   float64\n",
      " 4   LotArea              2073 non-null   int64  \n",
      " 5   Road_Type            2073 non-null   object \n",
      " 6   Property_Shape       2073 non-null   object \n",
      " 7   LandContour          2073 non-null   object \n",
      " 8   Utilities            2073 non-null   object \n",
      " 9   LotConfig            2073 non-null   object \n",
      " 10  LandSlope            2073 non-null   object \n",
      " 11  Neighborhood         2073 non-null   object \n",
      " 12  Condition1           2073 non-null   object \n",
      " 13  Condition2           2073 non-null   object \n",
      " 14  Dwelling_Type        2073 non-null   object \n",
      " 15  HouseStyle           2073 non-null   object \n",
      " 16  OverallQual          2073 non-null   int64  \n",
      " 17  OverallCond          2073 non-null   int64  \n",
      " 18  YearBuilt            2073 non-null   int64  \n",
      " 19  YearRemodAdd         2073 non-null   int64  \n",
      " 20  RoofStyle            2073 non-null   object \n",
      " 21  RoofMatl             2073 non-null   object \n",
      " 22  Exterior1st          2073 non-null   object \n",
      " 23  Exterior2nd          2073 non-null   object \n",
      " 24  MasVnrType           2073 non-null   object \n",
      " 25  MasVnrArea           2073 non-null   float64\n",
      " 26  ExterQual            2073 non-null   object \n",
      " 27  ExterCond            2073 non-null   object \n",
      " 28  Foundation           2073 non-null   object \n",
      " 29  BsmtQual             2073 non-null   object \n",
      " 30  BsmtCond             2073 non-null   object \n",
      " 31  BsmtExposure         2073 non-null   object \n",
      " 32  BsmtFinType1         2073 non-null   object \n",
      " 33  BsmtFinSF1           2073 non-null   int64  \n",
      " 34  BsmtFinType2         2073 non-null   object \n",
      " 35  BsmtFinSF2           2073 non-null   int64  \n",
      " 36  BsmtUnfSF            2073 non-null   int64  \n",
      " 37  TotalBsmtSF          2073 non-null   int64  \n",
      " 38  Heating              2073 non-null   object \n",
      " 39  HeatingQC            2073 non-null   object \n",
      " 40  CentralAir           2073 non-null   object \n",
      " 41  Electrical           2073 non-null   object \n",
      " 42  1stFlrSF             2073 non-null   int64  \n",
      " 43  2ndFlrSF             2073 non-null   int64  \n",
      " 44  LowQualFinSF         2073 non-null   int64  \n",
      " 45  GrLivArea            2073 non-null   int64  \n",
      " 46  BsmtFullBath         2073 non-null   int64  \n",
      " 47  BsmtHalfBath         2073 non-null   int64  \n",
      " 48  FullBath             2073 non-null   int64  \n",
      " 49  HalfBath             2073 non-null   int64  \n",
      " 50  BedroomAbvGr         2073 non-null   int64  \n",
      " 51  KitchenAbvGr         2073 non-null   int64  \n",
      " 52  KitchenQual          2073 non-null   object \n",
      " 53  TotRmsAbvGrd         2073 non-null   int64  \n",
      " 54  Functional           2073 non-null   object \n",
      " 55  Fireplaces           2073 non-null   int64  \n",
      " 56  GarageType           2073 non-null   object \n",
      " 57  GarageYrBlt          2073 non-null   float64\n",
      " 58  GarageFinish         2073 non-null   object \n",
      " 59  GarageCars           2073 non-null   int64  \n",
      " 60  GarageArea           2073 non-null   int64  \n",
      " 61  GarageQual           2073 non-null   object \n",
      " 62  GarageCond           2073 non-null   object \n",
      " 63  PavedDrive           2073 non-null   object \n",
      " 64  WoodDeckSF           2073 non-null   int64  \n",
      " 65  OpenPorchSF          2073 non-null   int64  \n",
      " 66  EnclosedPorch        2073 non-null   int64  \n",
      " 67  3SsnPorch            2073 non-null   int64  \n",
      " 68  ScreenPorch          2073 non-null   int64  \n",
      " 69  PoolArea             2073 non-null   int64  \n",
      " 70  MiscVal              2073 non-null   int64  \n",
      " 71  MoSold               2073 non-null   int64  \n",
      " 72  YrSold               2073 non-null   int64  \n",
      " 73  SaleType             2073 non-null   object \n",
      " 74  SaleCondition        2073 non-null   object \n",
      " 75  Property_Sale_Price  2073 non-null   int64  \n",
      "dtypes: float64(3), int64(35), object(38)\n",
      "memory usage: 1.2+ MB\n"
     ]
    }
   ],
   "source": [
    "df.info()"
   ]
  },
  {
   "cell_type": "code",
   "execution_count": 16,
   "id": "b25e0e92",
   "metadata": {},
   "outputs": [
    {
     "data": {
      "text/plain": [
       "{0: ['Id', 'Dwell_Type', 'Zone_Class', 'LotFrontage', 'LotArea', 'Road_Type', 'Property_Shape', 'LandContour', 'Utilities', 'LotConfig', 'LandSlope', 'Neighborhood', 'Condition1', 'Condition2', 'Dwelling_Type', 'HouseStyle', 'OverallQual', 'OverallCond', 'YearBuilt', 'YearRemodAdd', 'RoofStyle', 'RoofMatl', 'Exterior1st', 'Exterior2nd', 'MasVnrType', 'MasVnrArea', 'ExterQual', 'ExterCond', 'Foundation', 'BsmtQual', 'BsmtCond', 'BsmtExposure', 'BsmtFinType1', 'BsmtFinSF1', 'BsmtFinType2', 'BsmtFinSF2', 'BsmtUnfSF', 'TotalBsmtSF', 'Heating', 'HeatingQC', 'CentralAir', 'Electrical', '1stFlrSF', '2ndFlrSF', 'LowQualFinSF', 'GrLivArea', 'BsmtFullBath', 'BsmtHalfBath', 'FullBath', 'HalfBath', 'BedroomAbvGr', 'KitchenAbvGr', 'KitchenQual', 'TotRmsAbvGrd', 'Functional', 'Fireplaces', 'GarageType', 'GarageYrBlt', 'GarageFinish', 'GarageCars', 'GarageArea', 'GarageQual', 'GarageCond', 'PavedDrive', 'WoodDeckSF', 'OpenPorchSF', 'EnclosedPorch', '3SsnPorch', 'ScreenPorch', 'PoolArea', 'MiscVal', 'MoSold', 'YrSold', 'SaleType', 'SaleCondition', 'Property_Sale_Price']}"
      ]
     },
     "execution_count": 16,
     "metadata": {},
     "output_type": "execute_result"
    }
   ],
   "source": [
    "y = df.columns.to_series().groupby(df.isnull().sum()).groups\n",
    "y\n",
    "#checking for missing values once again and inferening that no missing values in any column"
   ]
  },
  {
   "cell_type": "code",
   "execution_count": 17,
   "id": "29ba4ec5",
   "metadata": {},
   "outputs": [],
   "source": [
    "\n",
    "from sklearn import preprocessing"
   ]
  },
  {
   "cell_type": "code",
   "execution_count": 18,
   "id": "aa343760",
   "metadata": {},
   "outputs": [],
   "source": [
    "label_encoder = preprocessing.LabelEncoder()\n",
    "#converting categorical columns into numerical columns"
   ]
  },
  {
   "cell_type": "code",
   "execution_count": 19,
   "id": "4812085f",
   "metadata": {},
   "outputs": [],
   "source": [
    "label_df=['Zone_Class', 'SaleType', 'SaleCondition', 'Road_Type', 'Property_Shape', 'LandContour', 'Utilities', 'LotConfig', 'LandSlope', 'Neighborhood', 'Condition1', 'Condition2', 'Dwelling_Type', 'HouseStyle', 'RoofStyle', 'RoofMatl', 'Exterior1st', 'Exterior2nd', 'MasVnrType', 'MasVnrArea', 'ExterQual', 'ExterCond', 'Foundation', 'BsmtQual', 'BsmtCond', 'BsmtExposure', 'BsmtFinType1', 'BsmtFinType2', 'Heating', 'HeatingQC', 'Electrical', 'KitchenQual', 'Functional', 'GarageType', 'GarageFinish', 'GarageQual', 'GarageCond', 'PavedDrive','CentralAir']"
   ]
  },
  {
   "cell_type": "code",
   "execution_count": 20,
   "id": "154ae6ff",
   "metadata": {},
   "outputs": [],
   "source": [
    "df[label_df]=df[label_df].apply(label_encoder.fit_transform)"
   ]
  },
  {
   "cell_type": "code",
   "execution_count": 21,
   "id": "6d2bc93f",
   "metadata": {},
   "outputs": [
    {
     "name": "stdout",
     "output_type": "stream",
     "text": [
      "<class 'pandas.core.frame.DataFrame'>\n",
      "RangeIndex: 2073 entries, 0 to 2072\n",
      "Data columns (total 76 columns):\n",
      " #   Column               Non-Null Count  Dtype  \n",
      "---  ------               --------------  -----  \n",
      " 0   Id                   2073 non-null   int64  \n",
      " 1   Dwell_Type           2073 non-null   int64  \n",
      " 2   Zone_Class           2073 non-null   int32  \n",
      " 3   LotFrontage          2073 non-null   float64\n",
      " 4   LotArea              2073 non-null   int64  \n",
      " 5   Road_Type            2073 non-null   int32  \n",
      " 6   Property_Shape       2073 non-null   int32  \n",
      " 7   LandContour          2073 non-null   int32  \n",
      " 8   Utilities            2073 non-null   int32  \n",
      " 9   LotConfig            2073 non-null   int32  \n",
      " 10  LandSlope            2073 non-null   int32  \n",
      " 11  Neighborhood         2073 non-null   int32  \n",
      " 12  Condition1           2073 non-null   int32  \n",
      " 13  Condition2           2073 non-null   int32  \n",
      " 14  Dwelling_Type        2073 non-null   int32  \n",
      " 15  HouseStyle           2073 non-null   int32  \n",
      " 16  OverallQual          2073 non-null   int64  \n",
      " 17  OverallCond          2073 non-null   int64  \n",
      " 18  YearBuilt            2073 non-null   int64  \n",
      " 19  YearRemodAdd         2073 non-null   int64  \n",
      " 20  RoofStyle            2073 non-null   int32  \n",
      " 21  RoofMatl             2073 non-null   int32  \n",
      " 22  Exterior1st          2073 non-null   int32  \n",
      " 23  Exterior2nd          2073 non-null   int32  \n",
      " 24  MasVnrType           2073 non-null   int32  \n",
      " 25  MasVnrArea           2073 non-null   int64  \n",
      " 26  ExterQual            2073 non-null   int32  \n",
      " 27  ExterCond            2073 non-null   int32  \n",
      " 28  Foundation           2073 non-null   int32  \n",
      " 29  BsmtQual             2073 non-null   int32  \n",
      " 30  BsmtCond             2073 non-null   int32  \n",
      " 31  BsmtExposure         2073 non-null   int32  \n",
      " 32  BsmtFinType1         2073 non-null   int32  \n",
      " 33  BsmtFinSF1           2073 non-null   int64  \n",
      " 34  BsmtFinType2         2073 non-null   int32  \n",
      " 35  BsmtFinSF2           2073 non-null   int64  \n",
      " 36  BsmtUnfSF            2073 non-null   int64  \n",
      " 37  TotalBsmtSF          2073 non-null   int64  \n",
      " 38  Heating              2073 non-null   int32  \n",
      " 39  HeatingQC            2073 non-null   int32  \n",
      " 40  CentralAir           2073 non-null   int32  \n",
      " 41  Electrical           2073 non-null   int32  \n",
      " 42  1stFlrSF             2073 non-null   int64  \n",
      " 43  2ndFlrSF             2073 non-null   int64  \n",
      " 44  LowQualFinSF         2073 non-null   int64  \n",
      " 45  GrLivArea            2073 non-null   int64  \n",
      " 46  BsmtFullBath         2073 non-null   int64  \n",
      " 47  BsmtHalfBath         2073 non-null   int64  \n",
      " 48  FullBath             2073 non-null   int64  \n",
      " 49  HalfBath             2073 non-null   int64  \n",
      " 50  BedroomAbvGr         2073 non-null   int64  \n",
      " 51  KitchenAbvGr         2073 non-null   int64  \n",
      " 52  KitchenQual          2073 non-null   int32  \n",
      " 53  TotRmsAbvGrd         2073 non-null   int64  \n",
      " 54  Functional           2073 non-null   int32  \n",
      " 55  Fireplaces           2073 non-null   int64  \n",
      " 56  GarageType           2073 non-null   int32  \n",
      " 57  GarageYrBlt          2073 non-null   float64\n",
      " 58  GarageFinish         2073 non-null   int32  \n",
      " 59  GarageCars           2073 non-null   int64  \n",
      " 60  GarageArea           2073 non-null   int64  \n",
      " 61  GarageQual           2073 non-null   int32  \n",
      " 62  GarageCond           2073 non-null   int32  \n",
      " 63  PavedDrive           2073 non-null   int32  \n",
      " 64  WoodDeckSF           2073 non-null   int64  \n",
      " 65  OpenPorchSF          2073 non-null   int64  \n",
      " 66  EnclosedPorch        2073 non-null   int64  \n",
      " 67  3SsnPorch            2073 non-null   int64  \n",
      " 68  ScreenPorch          2073 non-null   int64  \n",
      " 69  PoolArea             2073 non-null   int64  \n",
      " 70  MiscVal              2073 non-null   int64  \n",
      " 71  MoSold               2073 non-null   int64  \n",
      " 72  YrSold               2073 non-null   int64  \n",
      " 73  SaleType             2073 non-null   int32  \n",
      " 74  SaleCondition        2073 non-null   int32  \n",
      " 75  Property_Sale_Price  2073 non-null   int64  \n",
      "dtypes: float64(2), int32(38), int64(36)\n",
      "memory usage: 923.3 KB\n"
     ]
    }
   ],
   "source": [
    "df.info()"
   ]
  },
  {
   "cell_type": "code",
   "execution_count": 22,
   "id": "41c8a6e0",
   "metadata": {},
   "outputs": [
    {
     "data": {
      "text/plain": [
       "(2073, 76)"
      ]
     },
     "execution_count": 22,
     "metadata": {},
     "output_type": "execute_result"
    }
   ],
   "source": [
    "df.shape"
   ]
  },
  {
   "cell_type": "markdown",
   "id": "ee3fbc43",
   "metadata": {},
   "source": [
    "### Training and testing the model"
   ]
  },
  {
   "cell_type": "code",
   "execution_count": 23,
   "id": "a141260c",
   "metadata": {},
   "outputs": [],
   "source": [
    "X=df.drop(\"Property_Sale_Price\",axis=1)\n",
    "y=df[\"Property_Sale_Price\"]"
   ]
  },
  {
   "cell_type": "code",
   "execution_count": 24,
   "id": "f0af8a82",
   "metadata": {},
   "outputs": [],
   "source": [
    "X_train, X_test, y_train, y_test = train_test_split( X, y, test_size=0.25, random_state=0)"
   ]
  },
  {
   "cell_type": "code",
   "execution_count": 25,
   "id": "9765f385",
   "metadata": {},
   "outputs": [
    {
     "data": {
      "text/plain": [
       "LinearRegression()"
      ]
     },
     "execution_count": 25,
     "metadata": {},
     "output_type": "execute_result"
    }
   ],
   "source": [
    "from sklearn.linear_model import LinearRegression \n",
    "model= LinearRegression()  \n",
    "model.fit(X_train, y_train)"
   ]
  },
  {
   "cell_type": "code",
   "execution_count": 26,
   "id": "0b27e270",
   "metadata": {},
   "outputs": [
    {
     "data": {
      "text/plain": [
       "0.8387143089365453"
      ]
     },
     "execution_count": 26,
     "metadata": {},
     "output_type": "execute_result"
    }
   ],
   "source": [
    "model.score(X_train, y_train)"
   ]
  },
  {
   "cell_type": "code",
   "execution_count": 27,
   "id": "37855b60",
   "metadata": {},
   "outputs": [
    {
     "data": {
      "text/plain": [
       "0.8767226806115854"
      ]
     },
     "execution_count": 27,
     "metadata": {},
     "output_type": "execute_result"
    }
   ],
   "source": [
    "model.score(X_test, y_test)"
   ]
  },
  {
   "cell_type": "code",
   "execution_count": 28,
   "id": "fe78a0b9",
   "metadata": {},
   "outputs": [
    {
     "name": "stderr",
     "output_type": "stream",
     "text": [
      "D:\\Anaconda\\lib\\site-packages\\statsmodels\\tsa\\base\\tsa_model.py:7: FutureWarning: pandas.Int64Index is deprecated and will be removed from pandas in a future version. Use pandas.Index with the appropriate dtype instead.\n",
      "  from pandas import (to_datetime, Int64Index, DatetimeIndex, Period,\n",
      "D:\\Anaconda\\lib\\site-packages\\statsmodels\\tsa\\base\\tsa_model.py:7: FutureWarning: pandas.Float64Index is deprecated and will be removed from pandas in a future version. Use pandas.Index with the appropriate dtype instead.\n",
      "  from pandas import (to_datetime, Int64Index, DatetimeIndex, Period,\n"
     ]
    }
   ],
   "source": [
    "import statsmodels.api as sm"
   ]
  },
  {
   "cell_type": "code",
   "execution_count": 29,
   "id": "7d0e9c1c",
   "metadata": {},
   "outputs": [
    {
     "name": "stderr",
     "output_type": "stream",
     "text": [
      "D:\\Anaconda\\lib\\site-packages\\statsmodels\\tsa\\tsatools.py:142: FutureWarning: In a future version of pandas all arguments of concat except for the argument 'objs' will be keyword-only.\n",
      "  x = pd.concat(x[::order], 1)\n"
     ]
    }
   ],
   "source": [
    "X = sm.add_constant(X)"
   ]
  },
  {
   "cell_type": "code",
   "execution_count": 30,
   "id": "f74f728d",
   "metadata": {},
   "outputs": [],
   "source": [
    "model = sm.OLS(y, X).fit()\n",
    "#Ordinary least squares (OLS) regression is a statistical method of analysis that estimates the relationship between one or more independent variables and a dependent variable;"
   ]
  },
  {
   "cell_type": "code",
   "execution_count": 31,
   "id": "264b1d5a",
   "metadata": {
    "scrolled": true
   },
   "outputs": [
    {
     "name": "stdout",
     "output_type": "stream",
     "text": [
      "                             OLS Regression Results                            \n",
      "===============================================================================\n",
      "Dep. Variable:     Property_Sale_Price   R-squared:                       0.850\n",
      "Model:                             OLS   Adj. R-squared:                  0.845\n",
      "Method:                  Least Squares   F-statistic:                     155.2\n",
      "Date:                 Mon, 07 Mar 2022   Prob (F-statistic):               0.00\n",
      "Time:                         08:37:54   Log-Likelihood:                -24344.\n",
      "No. Observations:                 2073   AIC:                         4.884e+04\n",
      "Df Residuals:                     1999   BIC:                         4.925e+04\n",
      "Df Model:                           73                                         \n",
      "Covariance Type:             nonrobust                                         \n",
      "==================================================================================\n",
      "                     coef    std err          t      P>|t|      [0.025      0.975]\n",
      "----------------------------------------------------------------------------------\n",
      "const           1.212e+06   1.09e+06      1.112      0.266   -9.26e+05    3.35e+06\n",
      "Id                -2.4887      1.463     -1.702      0.089      -5.357       0.380\n",
      "Dwell_Type        -5.0048      4.425     -1.131      0.258     -13.683       3.674\n",
      "Zone_Class     -1684.6146   1181.023     -1.426      0.154   -4000.779     631.550\n",
      "LotFrontage      -12.3008     20.785     -0.592      0.554     -53.062      28.461\n",
      "LotArea            0.2229      0.086      2.588      0.010       0.054       0.392\n",
      "Road_Type       4.306e+04    1.1e+04      3.925      0.000    2.15e+04    6.46e+04\n",
      "Property_Shape -1138.5273    546.690     -2.083      0.037   -2210.668     -66.386\n",
      "LandContour     2338.2884   1092.536      2.140      0.032     195.661    4480.916\n",
      "Utilities      -3.744e+04   1.96e+04     -1.910      0.056   -7.59e+04     995.622\n",
      "LotConfig        666.3205    442.716      1.505      0.132    -201.912    1534.553\n",
      "LandSlope       5585.9535   3131.958      1.784      0.075    -556.291    1.17e+04\n",
      "Neighborhood     517.2034    127.553      4.055      0.000     267.052     767.355\n",
      "Condition1      -202.1463    817.060     -0.247      0.805   -1804.524    1400.232\n",
      "Condition2     -6979.9115   2967.310     -2.352      0.019   -1.28e+04   -1160.566\n",
      "Dwelling_Type  -3661.7694    707.401     -5.176      0.000   -5049.090   -2274.449\n",
      "HouseStyle     -1063.8404    480.192     -2.215      0.027   -2005.571    -122.110\n",
      "OverallQual     2320.8918    560.109      4.144      0.000    1222.434    3419.350\n",
      "OverallCond     2702.6993    571.709      4.727      0.000    1581.491    3823.907\n",
      "YearBuilt         49.4126     38.574      1.281      0.200     -26.236     125.062\n",
      "YearRemodAdd      58.6218     51.553      1.137      0.256     -42.481     159.725\n",
      "RoofStyle       2386.8503    900.616      2.650      0.008     620.606    4153.094\n",
      "RoofMatl        5964.1592   1221.625      4.882      0.000    3568.368    8359.950\n",
      "Exterior1st    -1480.8148    418.890     -3.535      0.000   -2302.321    -659.309\n",
      "Exterior2nd     1047.9455    374.515      2.798      0.005     313.466    1782.425\n",
      "MasVnrType      5262.9674   1335.777      3.940      0.000    2643.306    7882.629\n",
      "MasVnrArea        55.4890      9.578      5.793      0.000      36.705      74.273\n",
      "ExterQual      -1.288e+04   1572.485     -8.190      0.000    -1.6e+04   -9794.676\n",
      "ExterCond        464.9053   1027.206      0.453      0.651   -1549.600    2479.411\n",
      "Foundation      1872.9705   1309.580      1.430      0.153    -695.314    4441.255\n",
      "BsmtQual       -8719.0037   1179.413     -7.393      0.000    -1.1e+04   -6405.997\n",
      "BsmtCond        2632.9504   1119.857      2.351      0.019     436.741    4829.159\n",
      "BsmtExposure   -3882.9523    709.262     -5.475      0.000   -5273.922   -2491.983\n",
      "BsmtFinType1    -263.6246    518.018     -0.509      0.611   -1279.536     752.286\n",
      "BsmtFinSF1         9.0272      2.331      3.873      0.000       4.456      13.598\n",
      "BsmtFinType2    1228.6377   1110.306      1.107      0.269    -948.841    3406.117\n",
      "BsmtFinSF2         8.1445      4.745      1.716      0.086      -1.162      17.450\n",
      "BsmtUnfSF         -0.6609      2.219     -0.298      0.766      -5.012       3.690\n",
      "TotalBsmtSF       16.5108      2.812      5.872      0.000      10.997      22.025\n",
      "Heating        -3982.8027   2486.964     -1.601      0.109   -8860.116     894.510\n",
      "HeatingQC      -1070.8394    503.251     -2.128      0.033   -2057.791     -83.888\n",
      "CentralAir      5942.2963   3518.406      1.689      0.091    -957.830    1.28e+04\n",
      "Electrical       280.0871    766.609      0.365      0.715   -1223.349    1783.523\n",
      "1stFlrSF          25.1079      4.682      5.362      0.000      15.925      34.291\n",
      "2ndFlrSF          27.1287      4.303      6.304      0.000      18.689      35.568\n",
      "LowQualFinSF     -31.5302     11.053     -2.853      0.004     -53.206      -9.854\n",
      "GrLivArea         20.7063      4.304      4.811      0.000      12.266      29.147\n",
      "BsmtFullBath    5454.8541   1967.781      2.772      0.006    1595.737    9313.972\n",
      "BsmtHalfBath     988.8872   3218.119      0.307      0.759   -5322.332    7300.106\n",
      "FullBath        6200.0719   2131.713      2.908      0.004    2019.460    1.04e+04\n",
      "HalfBath        2659.4274   2066.553      1.287      0.198   -1393.396    6712.251\n",
      "BedroomAbvGr   -4157.9203   1369.658     -3.036      0.002   -6844.027   -1471.814\n",
      "KitchenAbvGr   -2.555e+04   3751.958     -6.810      0.000   -3.29e+04   -1.82e+04\n",
      "KitchenQual    -1.006e+04   1184.950     -8.491      0.000   -1.24e+04   -7737.430\n",
      "TotRmsAbvGrd    3543.4976    950.226      3.729      0.000    1679.960    5407.036\n",
      "Functional      5217.4590    790.090      6.604      0.000    3667.973    6766.945\n",
      "Fireplaces      6479.2633   1377.974      4.702      0.000    3776.848    9181.678\n",
      "GarageType       389.1768    517.349      0.752      0.452    -625.423    1403.777\n",
      "GarageYrBlt       -8.4142      2.285     -3.682      0.000     -12.896      -3.932\n",
      "GarageFinish   -1430.2582   1215.609     -1.177      0.240   -3814.252     953.736\n",
      "GarageCars      1.299e+04   2325.487      5.587      0.000    8432.891    1.76e+04\n",
      "GarageArea         6.0308      7.710      0.782      0.434      -9.090      21.152\n",
      "GarageQual      -746.4320   1486.428     -0.502      0.616   -3661.542    2168.678\n",
      "GarageCond      2985.6969   1663.793      1.795      0.073    -277.253    6248.646\n",
      "PavedDrive      2548.7278   1727.768      1.475      0.140    -839.687    5937.142\n",
      "WoodDeckSF        19.3297      6.025      3.208      0.001       7.515      31.145\n",
      "OpenPorchSF      -12.4560     12.024     -1.036      0.300     -36.037      11.125\n",
      "EnclosedPorch      5.2157     12.770      0.408      0.683     -19.828      30.260\n",
      "3SsnPorch         15.5921     26.059      0.598      0.550     -35.513      66.698\n",
      "ScreenPorch       53.5089     13.682      3.911      0.000      26.676      80.341\n",
      "PoolArea         -16.3851     19.241     -0.852      0.395     -54.120      21.350\n",
      "MiscVal            0.2881      1.635      0.176      0.860      -2.918       3.495\n",
      "MoSold          -251.0649    264.366     -0.950      0.342    -769.527     267.398\n",
      "YrSold          -702.0773    543.113     -1.293      0.196   -1767.204     363.049\n",
      "SaleType        -939.9016    466.923     -2.013      0.044   -1855.609     -24.194\n",
      "SaleCondition   3520.3898    662.294      5.315      0.000    2221.531    4819.249\n",
      "==============================================================================\n",
      "Omnibus:                     1229.978   Durbin-Watson:                   1.972\n",
      "Prob(Omnibus):                  0.000   Jarque-Bera (JB):           257699.445\n",
      "Skew:                          -1.681   Prob(JB):                         0.00\n",
      "Kurtosis:                      57.518   Cond. No.                     1.25e+16\n",
      "==============================================================================\n",
      "\n",
      "Notes:\n",
      "[1] Standard Errors assume that the covariance matrix of the errors is correctly specified.\n",
      "[2] The smallest eigenvalue is 2.83e-21. This might indicate that there are\n",
      "strong multicollinearity problems or that the design matrix is singular.\n"
     ]
    }
   ],
   "source": [
    "summary = model.summary()\n",
    "print(summary)"
   ]
  },
  {
   "cell_type": "code",
   "execution_count": 32,
   "id": "b0a6e20e",
   "metadata": {},
   "outputs": [
    {
     "name": "stdout",
     "output_type": "stream",
     "text": [
      "R-squared =  0.8387143089365453\n"
     ]
    }
   ],
   "source": [
    "ols = LinearRegression()\n",
    "ols.fit(X_train, y_train)\n",
    "y_ols_pred_normal = ols.predict(X_test)\n",
    "r_ols_normal = ols.score(X_train,y_train)\n",
    "print(\"R-squared = \", r_ols_normal)"
   ]
  },
  {
   "cell_type": "code",
   "execution_count": 33,
   "id": "42c39f29",
   "metadata": {},
   "outputs": [],
   "source": [
    "from sklearn.preprocessing import MinMaxScaler\n",
    "scaler = MinMaxScaler()\n",
    "x1 = df.drop([\"Property_Sale_Price\"], axis = 1)\n",
    "x1 = scaler.fit_transform(x1)\n",
    "y1 = df\n",
    "x1_train,x1_test, y1_train, y1_test = train_test_split(x1, y1, test_size = 0.2, random_state = 0)"
   ]
  },
  {
   "cell_type": "code",
   "execution_count": 34,
   "id": "31de1579",
   "metadata": {},
   "outputs": [
    {
     "data": {
      "text/plain": [
       "LinearRegression()"
      ]
     },
     "execution_count": 34,
     "metadata": {},
     "output_type": "execute_result"
    }
   ],
   "source": [
    "from sklearn.linear_model import LinearRegression \n",
    "model1= LinearRegression()  \n",
    "model1.fit(x1_train, y1_train)"
   ]
  },
  {
   "cell_type": "code",
   "execution_count": 35,
   "id": "7fd3c89e",
   "metadata": {},
   "outputs": [
    {
     "data": {
      "text/plain": [
       "0.9978773394439914"
      ]
     },
     "execution_count": 35,
     "metadata": {},
     "output_type": "execute_result"
    }
   ],
   "source": [
    "model1.score(x1_train,y1_train)"
   ]
  },
  {
   "cell_type": "code",
   "execution_count": 36,
   "id": "54a30b4d",
   "metadata": {},
   "outputs": [
    {
     "data": {
      "text/plain": [
       "0.9986545063919311"
      ]
     },
     "execution_count": 36,
     "metadata": {},
     "output_type": "execute_result"
    }
   ],
   "source": [
    "model1.score(x1_test, y1_test)"
   ]
  },
  {
   "cell_type": "code",
   "execution_count": null,
   "id": "2a0e90df",
   "metadata": {},
   "outputs": [],
   "source": [
    "### Here, the training-set accuracy score is0.83871 while the test-set accuracy to be 0.87672. The model is generalised model  as in training data the mode"
   ]
  }
 ],
 "metadata": {
  "kernelspec": {
   "display_name": "Python 3",
   "language": "python",
   "name": "python3"
  },
  "language_info": {
   "codemirror_mode": {
    "name": "ipython",
    "version": 3
   },
   "file_extension": ".py",
   "mimetype": "text/x-python",
   "name": "python",
   "nbconvert_exporter": "python",
   "pygments_lexer": "ipython3",
   "version": "3.8.8"
  }
 },
 "nbformat": 4,
 "nbformat_minor": 5
}
